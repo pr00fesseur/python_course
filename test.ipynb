{
 "cells": [
  {
   "cell_type": "code",
   "execution_count": null,
   "metadata": {},
   "outputs": [],
   "source": [
    "from dataclasses import dataclass\n",
    "\n",
    "\n",
    "class PaymentSystem:\n",
    "    def __init__(self, name: str):\n",
    "        self.name = name\n",
    "\n",
    "    def pay(self, amount: float) -> None:\n",
    "        print(f'Paying {amount} using {self.name}')\n",
    "\n",
    "\n",
    "\n",
    "@dataclass\n",
    "class Product:\n",
    "    id: str\n",
    "    name: str\n",
    "    price: float\n",
    "\n",
    "\n",
    "@dataclass\n",
    "class Order:\n",
    "    id: str\n",
    "    products: dict[Product, int]\n",
    "\n",
    "\n",
    "def buy(self, products: dict[Product, ], payment_system: PaymentSystem) -> float:\n",
    "    total = self.price * quantity\n",
    "    payment_system.pay(total)\n",
    "\n",
    "    return total\n",
    "\n",
    "\n",
    "\n",
    "phone = Product('Phone', 1000)\n",
    "paypal = PaymentSystem('PayPal')\n",
    "\n",
    "phone.buy(2, paypal)"
   ]
  },
  {
   "cell_type": "code",
   "execution_count": null,
   "metadata": {},
   "outputs": [],
   "source": [
    "\n",
    "from dataclasses import dataclass\n",
    "\n",
    "# class Product:\n",
    "#     def __init__(self, name: str, price: float):\n",
    "#         self.name = name\n",
    "#         self.price = price\n",
    "#     def buy(self, quantity: int, payment_system: PaymentSystem) -> float:\n",
    "#         total = self.price * quantity\n",
    "#         payment_system.pay(total)\n",
    "\n",
    "#         return total\n",
    "\n",
    "@dataclass\n",
    "class Product:\n",
    "    name: str\n",
    "    price: float\n",
    "\n",
    "    def buy(self, quantity: int, payment_system: PaymentSystem) -> float:\n",
    "        total = self.price * quantity\n",
    "        payment_system.pay(total)\n",
    "\n",
    "        return total"
   ]
  }
 ],
 "metadata": {
  "language_info": {
   "name": "python"
  },
  "orig_nbformat": 4
 },
 "nbformat": 4,
 "nbformat_minor": 2
}
